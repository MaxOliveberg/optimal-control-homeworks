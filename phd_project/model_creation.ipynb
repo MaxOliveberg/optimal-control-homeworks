{
 "cells": [
  {
   "cell_type": "code",
   "execution_count": 96,
   "outputs": [],
   "source": [
    "import numpy as np\n",
    "import pandas as pd\n",
    "import matplotlib.pyplot as plt"
   ],
   "metadata": {
    "collapsed": false,
    "ExecuteTime": {
     "end_time": "2023-09-22T15:46:46.173755Z",
     "start_time": "2023-09-22T15:46:45.966926Z"
    }
   },
   "id": "9751fa4a891f4af0"
  },
  {
   "cell_type": "markdown",
   "source": [
    "First, we define the data we want to load. You will need to have the data locally!"
   ],
   "metadata": {
    "collapsed": false
   },
   "id": "ab43d314831f101c"
  },
  {
   "cell_type": "code",
   "execution_count": 68,
   "id": "initial_id",
   "metadata": {
    "collapsed": true,
    "ExecuteTime": {
     "end_time": "2023-09-22T15:40:16.533682Z",
     "start_time": "2023-09-22T15:40:16.526315Z"
    }
   },
   "outputs": [],
   "source": [
    "data_base = \"data/\"  # Path to data folder\n",
    "\n",
    "data_paths = [\"aid_received.csv\", \"gdp_per_capita.csv\"]  # File names\n",
    "data_paths = [data_base + x for x in data_paths]  # Lazy\n",
    "countries = [\"Zimbabwe\", \"Zambia\"]  # Countries we want to study\n",
    "years = (2000, 2010)"
   ]
  },
  {
   "cell_type": "markdown",
   "source": [
    "This function loads the data in a messy way."
   ],
   "metadata": {
    "collapsed": false
   },
   "id": "58efa642d5cae60e"
  },
  {
   "cell_type": "code",
   "execution_count": 9,
   "outputs": [],
   "source": [
    "def load_data(paths: list[str]) -> pd.DataFrame:\n",
    "    df = None\n",
    "    for path in paths:\n",
    "        new_df = pd.read_csv(path).melt(id_vars=[\"country\"], var_name=\"year\",\n",
    "                                        value_name=path.replace(data_base, \"\").replace(\".csv\", \"\"))\n",
    "        if df is None:\n",
    "            df = new_df\n",
    "        else:\n",
    "            df = pd.merge(df, new_df, on=[\"country\", \"year\"])\n",
    "    df[\"year\"] = df[\"year\"].apply(int)\n",
    "    return df\n",
    "\n"
   ],
   "metadata": {
    "collapsed": false,
    "ExecuteTime": {
     "end_time": "2023-09-22T14:53:45.663201Z",
     "start_time": "2023-09-22T14:53:45.661176Z"
    }
   },
   "id": "c9fd442df323f21f"
  },
  {
   "cell_type": "markdown",
   "source": [
    "Load data frame into memory:"
   ],
   "metadata": {
    "collapsed": false
   },
   "id": "f1f016cf3972d6ca"
  },
  {
   "cell_type": "code",
   "execution_count": 69,
   "outputs": [],
   "source": [
    "df = load_data(data_paths)\n",
    "df = df.loc[\n",
    "    (df[\"country\"].isin(countries)) & (df[\"year\"] > years[0]) & (df[\"year\"] < years[1])]  # Pick out the stuff we want.\n"
   ],
   "metadata": {
    "collapsed": false,
    "ExecuteTime": {
     "end_time": "2023-09-22T15:40:21.000560Z",
     "start_time": "2023-09-22T15:40:20.970423Z"
    }
   },
   "id": "f587bf8ee04ebf41"
  },
  {
   "cell_type": "code",
   "execution_count": 70,
   "outputs": [],
   "source": [
    "df = df.rename(columns={\"gdp_per_capita\": \"gdp_prior\"})  # Makes things easier to write\n",
    "df[\"gdp_posterior\"] = None  # Init new column\n",
    "for country in countries:  # Bad code! \n",
    "    # Creates a x_t+1 column\n",
    "    df.loc[df[\"country\"] == country, \"gdp_posterior\"] = df.loc[df[\"country\"] == country, \"gdp_prior\"].shift(-1)\n",
    "df = df.dropna()"
   ],
   "metadata": {
    "collapsed": false,
    "ExecuteTime": {
     "end_time": "2023-09-22T15:40:24.142820Z",
     "start_time": "2023-09-22T15:40:24.139324Z"
    }
   },
   "id": "10713153d3b9397c"
  },
  {
   "cell_type": "markdown",
   "source": [
    "We say that $x_t = $gdp, and that \n",
    "$$\n",
    "\\dot x_t = \\alpha x_t + \\beta^Tu_t.\n",
    "$$\n",
    "Thus, we have the finite time approximation \n",
    "$$\n",
    "x_{t+1} = x_t + \\delta t \\dot x_t = x_t + \\delta t\\big( \\alpha x_t + \\beta^Tu_t \\big).\n",
    "$$\n",
    "This equation can be rewritten as \n",
    "$$\n",
    " x_{t+1} - \\Big( x_t + \\delta t\\big( \\alpha x_t + \\beta^Tu_t \\big) \\Big) = 0,\n",
    "$$\n",
    "and we can describe the model calibration as a MSE loss optimisation \n",
    "$$\n",
    "\\min_{\\alpha, \\beta} \\frac{1}{\\vert I \\vert } \\sum_{i \\in I} \\vert \\vert x_{t+1} - \\big( x_t + \\delta t \\dot x_t \\big) \\vert \\vert,\n",
    "$$\n",
    "where $I$ is some indexing set for all of our samples. The only contraint we have is $\\alpha \\in R$ and $\\beta\\in R^n$, where $n$ is the number of signals we have. \n",
    "\n",
    "We do the optimisation via scipy, because I know how to work it. "
   ],
   "metadata": {
    "collapsed": false
   },
   "id": "8dad1d0fabaafa75"
  },
  {
   "cell_type": "code",
   "execution_count": 71,
   "outputs": [],
   "source": [
    "import scipy.optimize as opt"
   ],
   "metadata": {
    "collapsed": false,
    "ExecuteTime": {
     "end_time": "2023-09-22T15:40:24.574339Z",
     "start_time": "2023-09-22T15:40:24.571638Z"
    }
   },
   "id": "e795b55422aca6d"
  },
  {
   "cell_type": "code",
   "execution_count": 72,
   "outputs": [],
   "source": [
    "def function_to_optimise(x: np.ndarray, X: np.ndarray, delta_t: float) -> float:\n",
    "    \"\"\"\n",
    "    The variable names here are confusing if compared to the previous notation. \n",
    "    \n",
    "    x = [alpha, beta^T]^T, \n",
    "    \n",
    "    X is a (2+n)xm matrix of [x_t, u^T, x_{t+1}], \n",
    "    \n",
    "    delta_t is the time step.\n",
    "    \"\"\"\n",
    "\n",
    "    error_vector = X[:, -1] - ((1 + delta_t * x[0]) * X[:, 0] + delta_t * X[:, 1:-1].dot(x[1:]))\n",
    "    return error_vector.dot(error_vector)"
   ],
   "metadata": {
    "collapsed": false,
    "ExecuteTime": {
     "end_time": "2023-09-22T15:40:24.777384Z",
     "start_time": "2023-09-22T15:40:24.771149Z"
    }
   },
   "id": "f705c33249be5e5"
  },
  {
   "cell_type": "markdown",
   "source": [
    "Now we construct our data matrix, and define our timestep $\\delta t = 1 $:"
   ],
   "metadata": {
    "collapsed": false
   },
   "id": "dee708878984b32f"
  },
  {
   "cell_type": "code",
   "execution_count": 91,
   "outputs": [],
   "source": [
    "delta_t = 1  # years\n",
    "\n",
    "# Some book keeping\n",
    "not_features = [\"gdp_prior\", \"gdp_posterior\", \"year\", \"country\"]\n",
    "features = [x for x in df.columns if x not in not_features]\n",
    "\n",
    "\n",
    "def create_X(df):\n",
    "    df_size, df_n_features = df.shape[0], df.shape[1] - len(not_features)\n",
    "\n",
    "    # Init X \n",
    "    X = np.zeros((df_size, df_n_features + 2))\n",
    "\n",
    "    # Assign columns\n",
    "    X[:, 0] = df[\"gdp_prior\"]\n",
    "    X[:, 1:-1] = df[features]\n",
    "    X[:, -1] = df[\"gdp_posterior\"]\n",
    "    return X, df[\"year\"].to_numpy()\n",
    "\n",
    "\n",
    "X, _ = create_X(df)"
   ],
   "metadata": {
    "collapsed": false,
    "ExecuteTime": {
     "end_time": "2023-09-22T15:44:50.402949Z",
     "start_time": "2023-09-22T15:44:50.383781Z"
    }
   },
   "id": "76630c3a7fe26f45"
  },
  {
   "cell_type": "markdown",
   "source": [
    "Now we are ready to optimise!"
   ],
   "metadata": {
    "collapsed": false
   },
   "id": "759047fdd0d908e6"
  },
  {
   "cell_type": "code",
   "execution_count": 92,
   "outputs": [],
   "source": [
    "\n",
    "func_lambda = lambda x: function_to_optimise(x, X,\n",
    "                                             delta_t)  # Create a lambda which passes X and delta_t, since these are constants\n",
    "initial_guess = np.ones(len(features) + 1)\n",
    "result = opt.minimize(func_lambda, x0=initial_guess, method='Nelder-Mead')"
   ],
   "metadata": {
    "collapsed": false,
    "ExecuteTime": {
     "end_time": "2023-09-22T15:44:50.802690Z",
     "start_time": "2023-09-22T15:44:50.793277Z"
    }
   },
   "id": "8576e415315d0cba"
  },
  {
   "cell_type": "markdown",
   "source": [
    "Now we can look at the result:"
   ],
   "metadata": {
    "collapsed": false
   },
   "id": "4cb73ba7285987d2"
  },
  {
   "cell_type": "code",
   "execution_count": 93,
   "outputs": [
    {
     "name": "stdout",
     "output_type": "stream",
     "text": [
      "       message: Optimization terminated successfully.\n",
      "       success: True\n",
      "        status: 0\n",
      "           fun: 53418.39197872642\n",
      "             x: [-1.176e-01  1.661e+00]\n",
      "           nit: 51\n",
      "          nfev: 96\n",
      " final_simplex: (array([[-1.176e-01,  1.661e+00],\n",
      "                       [-1.176e-01,  1.661e+00],\n",
      "                       [-1.176e-01,  1.661e+00]]), array([ 5.342e+04,  5.342e+04,  5.342e+04]))\n"
     ]
    }
   ],
   "source": [
    "print(result)"
   ],
   "metadata": {
    "collapsed": false,
    "ExecuteTime": {
     "end_time": "2023-09-22T15:44:51.139316Z",
     "start_time": "2023-09-22T15:44:51.136140Z"
    }
   },
   "id": "1bce7ddab986333e"
  },
  {
   "cell_type": "markdown",
   "source": [
    "Or, we can compare our estimate vs actual for some country of interest\n"
   ],
   "metadata": {
    "collapsed": false
   },
   "id": "78ffcbfb51b6ea19"
  },
  {
   "cell_type": "code",
   "execution_count": 101,
   "outputs": [
    {
     "data": {
      "text/plain": "<matplotlib.legend.Legend at 0x28cc6f190>"
     },
     "execution_count": 101,
     "metadata": {},
     "output_type": "execute_result"
    },
    {
     "data": {
      "text/plain": "<Figure size 640x480 with 1 Axes>",
      "image/png": "[encoded data removed]"
     },
     "metadata": {},
     "output_type": "display_data"
    }
   ],
   "source": [
    "def quick_sim(result, signals, initial_state):\n",
    "    ret = [initial_state]\n",
    "    c_state = initial_state\n",
    "    for k in range(signals.shape[0]-1):\n",
    "        c_state = c_state + delta_t*(result.x[0]*c_state + signals[k,:].dot(result.x[1:]))\n",
    "        ret.append(c_state)\n",
    "    return np.array(ret)\n",
    "\n",
    "\n",
    "country_of_interest = \"Zimbabwe\"\n",
    "sub_df = df.loc[df[\"country\"] == \"Zimbabwe\"]\n",
    "sub_X, y = create_X(sub_df)\n",
    "\n",
    "estimate = quick_sim(result, sub_X[:, 1:-1], initial_state=sub_X[0, 0])\n",
    "actual = sub_X[:, -1]\n",
    "\n",
    "plt.plot(y, estimate, label=\"Estimate\")\n",
    "plt.plot(y, actual, label=\"Actual\")\n",
    "plt.xlabel(\"Year\")\n",
    "plt.ylabel(\"GDP per capita\")\n",
    "plt.legend()\n",
    "\n",
    "\n"
   ],
   "metadata": {
    "collapsed": false,
    "ExecuteTime": {
     "end_time": "2023-09-22T15:54:01.514282Z",
     "start_time": "2023-09-22T15:54:01.431374Z"
    }
   },
   "id": "21138e7fd50660af"
  },
  {
   "cell_type": "code",
   "execution_count": null,
   "outputs": [],
   "source": [],
   "metadata": {
    "collapsed": false
   },
   "id": "ae2e4f5189b76314"
  }
 ],
 "metadata": {
  "kernelspec": {
   "display_name": "Python 3",
   "language": "python",
   "name": "python3"
  },
  "language_info": {
   "codemirror_mode": {
    "name": "ipython",
    "version": 2
   },
   "file_extension": ".py",
   "mimetype": "text/x-python",
   "name": "python",
   "nbconvert_exporter": "python",
   "pygments_lexer": "ipython2",
   "version": "2.7.6"
  }
 },
 "nbformat": 4,
 "nbformat_minor": 5
}
